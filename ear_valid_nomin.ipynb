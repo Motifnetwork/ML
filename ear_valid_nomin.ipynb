{
 "cells": [
  {
   "cell_type": "code",
   "execution_count": 1,
   "outputs": [],
   "source": [
    "from gql import gql, Client\n",
    "from gql.transport.requests import RequestsHTTPTransport\n",
    "import pandas as pd\n",
    "import json\n",
    "from tqdm import tqdm\n",
    "\n",
    "_transport = RequestsHTTPTransport(\n",
    "    url=url1,\n",
    "    use_json=True,\n",
    ")\n",
    "\n",
    "client = Client(\n",
    "    transport=_transport,\n",
    "    fetch_schema_from_transport=True,\n",
    ")"
   ],
   "metadata": {
    "collapsed": false,
    "ExecuteTime": {
     "end_time": "2023-07-01T17:17:44.111741Z",
     "start_time": "2023-07-01T17:17:43.757609Z"
    }
   }
  },
  {
   "cell_type": "markdown",
   "source": [
    "## DATA"
   ],
   "metadata": {
    "collapsed": false
   }
  },
  {
   "cell_type": "code",
   "execution_count": 2,
   "outputs": [
    {
     "name": "stdout",
     "output_type": "stream",
     "text": [
      "validatorId    1186\n",
      "dtype: int64\n"
     ]
    }
   ],
   "source": [
    "# Define the query\n",
    "query = gql('''\n",
    "query MyQuery {\n",
    "  eraValidators {\n",
    "    validatorId\n",
    "  }\n",
    "}\n",
    "''')\n",
    "\n",
    "# Execute the query\n",
    "result = client.execute(query)\n",
    "\n",
    "# Convert the result into a pandas DataFrame\n",
    "df = pd.json_normalize(result['eraValidators'])\n",
    "\n",
    "# Write the result to a file\n",
    "with open('result.json', 'w') as f:\n",
    "    json.dump(result, f)\n",
    "\n",
    "# Print the DataFrame\n",
    "print(df.nunique())"
   ],
   "metadata": {
    "collapsed": false,
    "ExecuteTime": {
     "end_time": "2023-07-01T17:18:06.761342Z",
     "start_time": "2023-07-01T17:17:45.681547Z"
    }
   }
  },
  {
   "cell_type": "code",
   "execution_count": 8,
   "outputs": [],
   "source": [
    "query = gql('''\n",
    "query MyQuery {\n",
    "  eraValidators {\n",
    "    validatorId\n",
    "    totalBonded\n",
    "    selfBonded\n",
    "    nominatorsCount\n",
    "  }\n",
    "}\n",
    "''')\n",
    "\n",
    "\n",
    "result = client.execute(query)"
   ],
   "metadata": {
    "collapsed": false,
    "ExecuteTime": {
     "end_time": "2023-07-01T18:01:12.969267Z",
     "start_time": "2023-07-01T18:00:18.100788Z"
    }
   }
  },
  {
   "cell_type": "code",
   "execution_count": null,
   "outputs": [],
   "source": [
    "result"
   ],
   "metadata": {
    "collapsed": false
   }
  },
  {
   "cell_type": "code",
   "execution_count": 4,
   "outputs": [],
   "source": [
    "# query = gql('''\n",
    "# {\n",
    "#   __schema {\n",
    "#     types {\n",
    "#       name\n",
    "#       fields {\n",
    "#         name\n",
    "#         type {\n",
    "#           name\n",
    "#           kind\n",
    "#           ofType {\n",
    "#             name\n",
    "#             kind\n",
    "#           }\n",
    "#         }\n",
    "#       }\n",
    "#     }\n",
    "#   }\n",
    "# }\n",
    "# ''')\n",
    "# client.execute(query)"
   ],
   "metadata": {
    "collapsed": false,
    "ExecuteTime": {
     "end_time": "2023-07-01T17:19:25.731958Z",
     "start_time": "2023-07-01T17:19:25.730317Z"
    }
   }
  },
  {
   "cell_type": "code",
   "execution_count": null,
   "outputs": [],
   "source": [],
   "metadata": {
    "collapsed": false
   }
  },
  {
   "cell_type": "code",
   "execution_count": null,
   "outputs": [],
   "source": [
    "import pandas as pd\n",
    "\n",
    "# Create an empty DataFrame\n",
    "df = pd.DataFrame()\n",
    "\n",
    "# Iterate over eras from 1 to 1125\n",
    "for era_id in range(1, 5):\n",
    "    # Construct the query for the current era\n",
    "    query = '''\n",
    "    query MyQuery {\n",
    "      eraValidators(where: {era: {id_eq: \"%d\"}}) {\n",
    "        era {\n",
    "          validators {\n",
    "            validatorId\n",
    "            totalBonded\n",
    "            selfBonded\n",
    "            nominatorsCount\n",
    "          }\n",
    "          id\n",
    "        }\n",
    "      }\n",
    "    }\n",
    "    ''' % era_id\n",
    "\n",
    "    # Execute the query and get the result\n",
    "    result = client.execute(gql(query))\n",
    "\n",
    "    # Extract the relevant data from the result\n",
    "    era_validators = result['data']['eraValidators'][0]['era']['validators']\n",
    "\n",
    "    # Convert the data to a DataFrame\n",
    "    era_df = pd.DataFrame(era_validators)\n",
    "\n",
    "    # Add the era id as a column\n",
    "    era_df['era_id'] = era_id\n",
    "\n",
    "    # Concatenate the current era DataFrame with the main DataFrame\n",
    "    df = pd.concat([df, era_df], ignore_index=True)\n"
   ],
   "metadata": {
    "collapsed": false
   }
  },
  {
   "cell_type": "code",
   "execution_count": null,
   "outputs": [],
   "source": [
    "import pandas as pd\n",
    "\n",
    "# Create an empty DataFrame\n",
    "df = pd.DataFrame()\n",
    "\n",
    "# Iterate over eras from 1 to 1125\n",
    "for era_data in result['eraValidators']:\n",
    "    # Extract the era id\n",
    "    era_id = era_data['era']['id']\n",
    "\n",
    "    # Extract the validators for the current era\n",
    "    era_validators = era_data['era']['validators']\n",
    "\n",
    "    # Convert the data to a DataFrame\n",
    "    era_df = pd.DataFrame(era_validators)\n",
    "\n",
    "    # Add the era id as a column\n",
    "    era_df['era_id'] = era_id\n",
    "\n",
    "    # Concatenate the current era DataFrame with the main DataFrame\n",
    "    df = pd.concat([df, era_df], ignore_index=True)\n",
    "\n",
    "# Print the resulting DataFrame\n",
    "print(df)\n"
   ],
   "metadata": {
    "collapsed": false
   }
  },
  {
   "cell_type": "code",
   "execution_count": 19,
   "outputs": [],
   "source": [],
   "metadata": {
    "collapsed": false,
    "ExecuteTime": {
     "end_time": "2023-07-01T18:11:01.714695Z",
     "start_time": "2023-07-01T18:11:01.710933Z"
    }
   }
  },
  {
   "cell_type": "code",
   "execution_count": null,
   "outputs": [],
   "source": [
    "# Create an empty DataFrame\n",
    "df = pd.DataFrame()\n",
    "\n",
    "# Iterate over eras from 1 to 1125\n",
    "for era_id in tqdm(range(232, 1125)):\n",
    "    # Construct the query for the current era\n",
    "    query = '''\n",
    "    query MyQuery {\n",
    "      eraValidators(where: {era: {id_eq: \"%d\"}}) {\n",
    "        era {\n",
    "          validators {\n",
    "            validatorId\n",
    "            totalBonded\n",
    "            selfBonded\n",
    "            nominatorsCount\n",
    "          }\n",
    "          id\n",
    "        }\n",
    "      }\n",
    "    }\n",
    "    ''' % era_id\n",
    "\n",
    "    # Execute the query and get the result\n",
    "    result = client.execute(gql(query))\n",
    "\n",
    "    # Check if the result contains the 'eraValidators' key\n",
    "    if 'eraValidators' in result:\n",
    "        era_data = result['eraValidators']\n",
    "\n",
    "        # Iterate over each era in the result\n",
    "        for era in era_data:\n",
    "            era_id = era['era']['id']\n",
    "            validators = era['era']['validators']\n",
    "\n",
    "            # Convert the validators data to a DataFrame\n",
    "            era_df = pd.DataFrame(validators)\n",
    "\n",
    "            # Add the era id as a column\n",
    "            era_df['era_id'] = era_id\n",
    "\n",
    "            # Concatenate the current era DataFrame with the main DataFrame\n",
    "            df = pd.concat([df, era_df], ignore_index=True)"
   ],
   "metadata": {
    "collapsed": false
   }
  },
  {
   "cell_type": "code",
   "execution_count": 24,
   "outputs": [
    {
     "data": {
      "text/plain": "                                               validatorId        totalBonded  \\\n10371797  12DsYUto9AcKA4kRz1yLcGh13CTLe7LbUjDkMS8ZY8rCK4rn  16369417383909862   \n10371798  15Q4hMef4AGNKwgK5hd7k6zWvyaK8DhfhpaCHDGxdS7buxDf  21348038645804778   \n10371799  14MQcaQQSptK9iriyMYFWLQezFjFihyrTg4YoKGyeNm7P34M  16474410389583593   \n10371800  13mk2P1S54TiyKFrbMZwGW799zMagjPNW98N1REfxr4T6EeT  16476194462735423   \n10371801  14yx4vPAACZRhoDQm1dyvXD3QdRQyCRRCe5tj1zPomhhS29a  21350317876204412   \n\n            selfBonded  nominatorsCount era_id  \n10371797  100000000000                7    232  \n10371798  100000039437               31    232  \n10371799   10000000000                7    232  \n10371800   10000000000                2    232  \n10371801   10000000000               16    232  ",
      "text/html": "<div>\n<style scoped>\n    .dataframe tbody tr th:only-of-type {\n        vertical-align: middle;\n    }\n\n    .dataframe tbody tr th {\n        vertical-align: top;\n    }\n\n    .dataframe thead th {\n        text-align: right;\n    }\n</style>\n<table border=\"1\" class=\"dataframe\">\n  <thead>\n    <tr style=\"text-align: right;\">\n      <th></th>\n      <th>validatorId</th>\n      <th>totalBonded</th>\n      <th>selfBonded</th>\n      <th>nominatorsCount</th>\n      <th>era_id</th>\n    </tr>\n  </thead>\n  <tbody>\n    <tr>\n      <th>10371797</th>\n      <td>12DsYUto9AcKA4kRz1yLcGh13CTLe7LbUjDkMS8ZY8rCK4rn</td>\n      <td>16369417383909862</td>\n      <td>100000000000</td>\n      <td>7</td>\n      <td>232</td>\n    </tr>\n    <tr>\n      <th>10371798</th>\n      <td>15Q4hMef4AGNKwgK5hd7k6zWvyaK8DhfhpaCHDGxdS7buxDf</td>\n      <td>21348038645804778</td>\n      <td>100000039437</td>\n      <td>31</td>\n      <td>232</td>\n    </tr>\n    <tr>\n      <th>10371799</th>\n      <td>14MQcaQQSptK9iriyMYFWLQezFjFihyrTg4YoKGyeNm7P34M</td>\n      <td>16474410389583593</td>\n      <td>10000000000</td>\n      <td>7</td>\n      <td>232</td>\n    </tr>\n    <tr>\n      <th>10371800</th>\n      <td>13mk2P1S54TiyKFrbMZwGW799zMagjPNW98N1REfxr4T6EeT</td>\n      <td>16476194462735423</td>\n      <td>10000000000</td>\n      <td>2</td>\n      <td>232</td>\n    </tr>\n    <tr>\n      <th>10371801</th>\n      <td>14yx4vPAACZRhoDQm1dyvXD3QdRQyCRRCe5tj1zPomhhS29a</td>\n      <td>21350317876204412</td>\n      <td>10000000000</td>\n      <td>16</td>\n      <td>232</td>\n    </tr>\n  </tbody>\n</table>\n</div>"
     },
     "execution_count": 24,
     "metadata": {},
     "output_type": "execute_result"
    }
   ],
   "source": [
    "df.tail()"
   ],
   "metadata": {
    "collapsed": false,
    "ExecuteTime": {
     "end_time": "2023-07-02T07:01:56.032147Z",
     "start_time": "2023-07-02T07:01:56.029450Z"
    }
   }
  },
  {
   "cell_type": "code",
   "execution_count": null,
   "outputs": [],
   "source": [],
   "metadata": {
    "collapsed": false
   }
  }
 ],
 "metadata": {
  "kernelspec": {
   "display_name": "Python 3",
   "language": "python",
   "name": "python3"
  },
  "language_info": {
   "codemirror_mode": {
    "name": "ipython",
    "version": 2
   },
   "file_extension": ".py",
   "mimetype": "text/x-python",
   "name": "python",
   "nbconvert_exporter": "python",
   "pygments_lexer": "ipython2",
   "version": "2.7.6"
  }
 },
 "nbformat": 4,
 "nbformat_minor": 0
}
