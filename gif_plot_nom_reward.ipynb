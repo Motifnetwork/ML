{
 "cells": [
  {
   "cell_type": "code",
   "execution_count": 4,
   "metadata": {
    "ExecuteTime": {
     "end_time": "2023-08-04T17:54:41.208886Z",
     "start_time": "2023-08-04T17:54:40.945290Z"
    }
   },
   "outputs": [],
   "source": [
    "from gql import gql, Client\n",
    "\n",
    "import psycopg2\n",
    "import pandas as pd\n",
    "\n",
    "import json\n",
    "from tqdm import tqdm"
   ]
  },
  {
   "cell_type": "markdown",
   "metadata": {},
   "source": [
    "## DATA"
   ]
  },
  {
   "cell_type": "code",
   "execution_count": 2,
   "outputs": [],
   "source": [
    "# Establish a connection to the database\n",
    "conn = psycopg2.connect(\n",
    "    dbname=\"bali5\",\n",
    "    user=user1,\n",
    "    password=password1,\n",
    "    host=\"pg.squid.subsquid.io\",\n",
    "    port=\"5432\"\n",
    ")"
   ],
   "metadata": {
    "collapsed": false,
    "ExecuteTime": {
     "end_time": "2023-08-04T17:46:49.660124Z",
     "start_time": "2023-08-04T17:46:49.351439Z"
    }
   }
  },
  {
   "cell_type": "code",
   "execution_count": null,
   "outputs": [],
   "source": [
    "# Create a cursor from the connection\n",
    "cur = conn.cursor()\n",
    "\n",
    "# Query the columns of a specific table\n",
    "cur.execute(\"\"\"\n",
    "    SELECT column_name, data_type\n",
    "    FROM information_schema.columns\n",
    "    WHERE table_name = 'era_staker'\n",
    "\"\"\")\n",
    "\n",
    "# Fetch all rows from the cursor\n",
    "columns = cur.fetchall()\n",
    "\n",
    "# Print the columns\n",
    "for column in columns:\n",
    "    print(column)"
   ],
   "metadata": {
    "collapsed": false
   }
  },
  {
   "cell_type": "code",
   "execution_count": null,
   "outputs": [],
   "source": [],
   "metadata": {
    "collapsed": false
   }
  },
  {
   "cell_type": "code",
   "execution_count": 2,
   "outputs": [],
   "source": [
    "# df = pd.read_pickle('nominator_data_full.pkl')"
   ],
   "metadata": {
    "collapsed": false,
    "ExecuteTime": {
     "end_time": "2023-07-30T17:43:01.375846Z",
     "start_time": "2023-07-30T17:42:34.089836Z"
    }
   }
  },
  {
   "cell_type": "code",
   "execution_count": 9,
   "metadata": {
    "ExecuteTime": {
     "end_time": "2023-07-30T18:18:17.120295Z",
     "start_time": "2023-07-30T18:18:16.992376Z"
    }
   },
   "outputs": [
    {
     "data": {
      "text/plain": "1125"
     },
     "execution_count": 9,
     "metadata": {},
     "output_type": "execute_result"
    }
   ],
   "source": [
    "df.era_id.nunique()"
   ]
  },
  {
   "cell_type": "code",
   "execution_count": 86,
   "metadata": {
    "ExecuteTime": {
     "end_time": "2023-07-02T21:20:20.364844Z",
     "start_time": "2023-07-02T21:20:19.481987Z"
    }
   },
   "outputs": [
    {
     "data": {
      "text/plain": [
       "1185"
      ]
     },
     "execution_count": 86,
     "metadata": {},
     "output_type": "execute_result"
    }
   ],
   "source": [
    "df.validatorId.nunique()"
   ]
  },
  {
   "cell_type": "code",
   "execution_count": 87,
   "metadata": {
    "ExecuteTime": {
     "end_time": "2023-07-02T21:20:39.193727Z",
     "start_time": "2023-07-02T21:20:37.136734Z"
    }
   },
   "outputs": [
    {
     "data": {
      "text/plain": [
       "80709"
      ]
     },
     "execution_count": 87,
     "metadata": {},
     "output_type": "execute_result"
    }
   ],
   "source": [
    "df.nominatorId.nunique()"
   ]
  },
  {
   "cell_type": "code",
   "execution_count": 89,
   "metadata": {
    "ExecuteTime": {
     "end_time": "2023-07-02T21:25:15.270845Z",
     "start_time": "2023-07-02T21:25:15.266699Z"
    }
   },
   "outputs": [
    {
     "data": {
      "text/plain": [
       "19157515"
      ]
     },
     "execution_count": 89,
     "metadata": {},
     "output_type": "execute_result"
    }
   ],
   "source": [
    "len(final_df)"
   ]
  },
  {
   "cell_type": "code",
   "execution_count": null,
   "metadata": {},
   "outputs": [],
   "source": []
  },
  {
   "cell_type": "code",
   "execution_count": 97,
   "metadata": {
    "ExecuteTime": {
     "end_time": "2023-07-03T09:15:17.169247Z",
     "start_time": "2023-07-03T09:15:13.141136Z"
    }
   },
   "outputs": [
    {
     "data": {
      "application/vnd.jupyter.widget-view+json": {
       "model_id": "851d5c900f0d488785f81e5f68274abc",
       "version_major": 2,
       "version_minor": 0
      },
      "text/plain": [
       "interactive(children=(IntSlider(value=10, description='topk', max=50, min=1), Output()), _dom_classes=('widget…"
      ]
     },
     "metadata": {},
     "output_type": "display_data"
    }
   ],
   "source": [
    "import pandas as pd\n",
    "import numpy as np\n",
    "import seaborn as sns\n",
    "import matplotlib.pyplot as plt\n",
    "from IPython.display import display\n",
    "from ipywidgets import interact, IntSlider\n",
    "\n",
    "\n",
    "# Create a pivot table\n",
    "pivot_table = df.pivot_table(values='totalBonded', index='nominatorId', columns='validatorId')\n",
    "\n",
    "@interact\n",
    "def plot_heatmap(topk=IntSlider(min=1, max=50, value=10)):\n",
    "    # Select top k nominators and validators\n",
    "    top_nominators = pivot_table.sum(axis=1).nlargest(topk).index\n",
    "    top_validators = pivot_table.sum(axis=0).nlargest(topk).index\n",
    "\n",
    "    # Select corresponding rows and columns from pivot table\n",
    "    subset = pivot_table.loc[top_nominators, top_validators]\n",
    "\n",
    "    # Plot heatmap\n",
    "    plt.figure(figsize=(10, 8))\n",
    "    sns.heatmap(subset, cmap='viridis')\n",
    "    plt.title(f\"Heatmap for Top {topk} Validators and Nominators\")\n",
    "    plt.xlabel(\"Validators\")\n",
    "    plt.ylabel(\"Nominators\")\n",
    "    plt.show()"
   ]
  },
  {
   "cell_type": "code",
   "execution_count": 109,
   "metadata": {
    "ExecuteTime": {
     "end_time": "2023-07-03T09:23:53.389714Z",
     "start_time": "2023-07-03T09:23:53.385746Z"
    }
   },
   "outputs": [],
   "source": [
    "df_agg = final_df"
   ]
  },
  {
   "cell_type": "code",
   "execution_count": null,
   "outputs": [],
   "source": [
    "import plotly.graph_objects as go\n",
    "\n",
    "# Create a list of labels (nominatorId and validatorId)\n",
    "labels = list(df_agg['nominatorId'].unique()) + list(df_agg['validatorId'].unique())\n",
    "\n",
    "# Create a list of colors for the labels, here for simplicity, nominators are colored blue and validators red\n",
    "colors = ['blue'] * len(df_agg['nominatorId'].unique()) + ['red'] * len(df_agg['validatorId'].unique())\n",
    "\n",
    "# Create a dictionary mapping for the labels\n",
    "label_dict = {label: idx for idx, label in enumerate(labels)}\n",
    "\n",
    "# Prepare source, target and value lists\n",
    "source = df_agg['nominatorId'].map(label_dict)\n",
    "target = df_agg['validatorId'].map(label_dict)\n",
    "value = df_agg['amount']\n",
    "\n",
    "# Create a Sankey diagram\n",
    "fig = go.Figure(data=[go.Sankey(\n",
    "    node=dict(\n",
    "        pad=15,\n",
    "        thickness=20,\n",
    "        line=dict(color='black', width=0.5),\n",
    "        label=labels,\n",
    "        color=colors\n",
    "    ),\n",
    "    link=dict(\n",
    "        source=source,  # indices correspond to labels\n",
    "        target=target,  # indices correspond to labels\n",
    "        value=value\n",
    "    )\n",
    ")])\n",
    "\n",
    "fig.update_layout(title_text='Flow of Amounts from Nominators to Validators', font_size=10)\n",
    "fig.show()\n"
   ],
   "metadata": {
    "collapsed": false
   }
  },
  {
   "cell_type": "code",
   "execution_count": null,
   "outputs": [],
   "source": [],
   "metadata": {
    "collapsed": false
   }
  },
  {
   "cell_type": "code",
   "execution_count": null,
   "outputs": [],
   "source": [],
   "metadata": {
    "collapsed": false
   }
  },
  {
   "cell_type": "code",
   "execution_count": null,
   "outputs": [],
   "source": [
    "import numpy as np\n",
    "import seaborn as sns\n",
    "import matplotlib.pyplot as plt\n",
    "from matplotlib.animation import FuncAnimation\n",
    "import imageio\n",
    "\n",
    "# Preprocess the data: normalize 'amount' for each era\n",
    "df['normalized_amount'] = df.groupby('era_id')['amount'].apply(lambda x: x / x.max())\n",
    "\n",
    "# Get the list of eras\n",
    "eras = df['era_id'].unique()\n",
    "\n",
    "# Create a directory for storing images if not exists\n",
    "import os\n",
    "if not os.path.exists('images'):\n",
    "    os.makedirs('images')\n",
    "\n",
    "# Create and save a heatmap for each era\n",
    "for era in eras:\n",
    "    # Get the data for the era\n",
    "    df_era = df[df['era_id'] == era]\n",
    "\n",
    "    # Create a pivot table\n",
    "    pivot_table = df_era.pivot_table(values='normalized_amount', index='nominatorId', columns='validatorId', fill_value=0)\n",
    "\n",
    "    # Plot heatmap\n",
    "    plt.figure(figsize=(10, 8))\n",
    "    sns.heatmap(pivot_table, cmap='viridis')\n",
    "    plt.title(f\"Era {era}\")\n",
    "\n",
    "    # Save the heatmap as an image\n",
    "    plt.savefig(f'images/heatmap_{era}.png')\n",
    "    plt.close()\n",
    "\n",
    "# Create a video from images\n",
    "images = [imageio.imread(f'images/heatmap_{era}.png') for era in eras]\n",
    "imageio.mimsave('heatmap_video.gif', images, fps=10)\n"
   ],
   "metadata": {
    "collapsed": false
   }
  },
  {
   "cell_type": "code",
   "execution_count": null,
   "outputs": [],
   "source": [],
   "metadata": {
    "collapsed": false
   }
  },
  {
   "cell_type": "code",
   "execution_count": null,
   "outputs": [],
   "source": [],
   "metadata": {
    "collapsed": false
   }
  },
  {
   "cell_type": "code",
   "execution_count": 5,
   "outputs": [],
   "source": [
    "df = pd.read_pickle('reward_percentage_with_amount.pkl')"
   ],
   "metadata": {
    "collapsed": false,
    "ExecuteTime": {
     "end_time": "2023-08-04T17:56:40.672408Z",
     "start_time": "2023-08-04T17:56:37.150032Z"
    }
   }
  },
  {
   "cell_type": "code",
   "execution_count": null,
   "outputs": [],
   "source": [
    "df"
   ],
   "metadata": {
    "collapsed": false
   }
  },
  {
   "cell_type": "code",
   "execution_count": null,
   "outputs": [],
   "source": [
    "import os\n",
    "import seaborn as sns\n",
    "import imageio\n",
    "import matplotlib.pyplot as plt\n",
    "\n",
    "# Create a copy of the DataFrame and sort it\n",
    "sorted_df = df.sort_values(['nominator_id', 'validator_id', 'era_id'])\n",
    "\n",
    "# Create a new column 'previous_era' with the era of the previous nomination for each nominator and validator\n",
    "sorted_df['previous_era'] = sorted_df.groupby(['nominator_id', 'validator_id'])['era_id'].shift()\n",
    "\n",
    "# Create a column to identify new nominators or those returning after an absence of 10 eras\n",
    "sorted_df['new_nominator'] = ((sorted_df['era_id'] - sorted_df['previous_era']) >= 10) | sorted_df['nominator_id'].ne(sorted_df['nominator_id'].shift())\n",
    "\n",
    "# Create an aggregated dataframe to get the total number of new nominators for each validator in each era\n",
    "agg_df = sorted_df.groupby(['era_id', 'validator_id', 'reward_percentage']).agg(\n",
    "    num_nominators=('nominator_id', 'count'),\n",
    "    new_nominators=('new_nominator', 'sum')\n",
    ").reset_index()\n",
    "\n",
    "# Calculate max and min values for axes\n",
    "max_reward_percentage = agg_df['reward_percentage'].max()\n",
    "max_num_nominators = agg_df['num_nominators'].max()\n",
    "min_reward_percentage = max_reward_percentage / -100\n",
    "min_num_nominators = max_num_nominators / -100\n",
    "\n",
    "# Create a directory to store the images\n",
    "if not os.path.exists('images'):\n",
    "    os.makedirs('images')\n",
    "\n",
    "# Loop over each era to create the plots\n",
    "for era in agg_df['era_id'].unique():\n",
    "    era_df = agg_df[agg_df['era_id'] == era]\n",
    "\n",
    "    # Create a scatter plot with different colors for new/returning nominators\n",
    "    plt.figure(figsize=(10, 6))\n",
    "    sns.scatterplot(data=era_df, x='reward_percentage', y='num_nominators', size='new_nominators', hue='new_nominators', palette='viridis')\n",
    "    plt.xlabel('Reward Percentage')\n",
    "    plt.ylabel('Number of Nominators')\n",
    "    plt.title(f'Effect of Reward Percentage on Validator Choice in Era {era}')\n",
    "    plt.xlim(min_reward_percentage, max_reward_percentage)\n",
    "    plt.ylim(min_num_nominators, max_num_nominators)\n",
    "    plt.savefig(f'images/era_{era}.png')\n",
    "    plt.close()\n",
    "\n",
    "# Create the GIF as before\n",
    "images = [imageio.imread(f'images/era_{era}.png') for era in agg_df['era_id'].unique()]\n",
    "imageio.mimsave('reward_vs_nominators.gif', images, duration=20)"
   ],
   "metadata": {
    "collapsed": false
   }
  },
  {
   "cell_type": "code",
   "execution_count": null,
   "outputs": [],
   "source": [
    "import os\n",
    "import seaborn as sns\n",
    "import imageio\n",
    "import matplotlib.pyplot as plt\n",
    "\n",
    "# Create a copy of the DataFrame and sort it\n",
    "sorted_df = df.sort_values(['nominator_id', 'validator_id', 'era_id'])\n",
    "\n",
    "# Create a new column 'previous_era' with the era of the previous nomination for each nominator and validator\n",
    "sorted_df['previous_era'] = sorted_df.groupby(['nominator_id', 'validator_id'])['era_id'].shift()\n",
    "\n",
    "# Create a column to identify new nominators or those returning after an absence of 10 eras\n",
    "sorted_df['new_nominator'] = ((sorted_df['era_id'] - sorted_df['previous_era']) >= 10) | sorted_df['nominator_id'].ne(sorted_df['nominator_id'].shift())\n",
    "\n",
    "# Create an aggregated dataframe to get the total number of new nominators for each validator in each era\n",
    "agg_df = sorted_df.groupby(['era_id', 'validator_id', 'reward_percentage']).agg(\n",
    "    num_nominators=('nominator_id', 'count'),\n",
    "    new_nominators=('new_nominator', 'sum')\n",
    ").reset_index()\n",
    "\n",
    "# Exclude groups where we do not have any nominators\n",
    "agg_df = agg_df[agg_df['num_nominators'] > 0]\n",
    "\n",
    "# Calculate max and min values for axes\n",
    "max_reward_percentage = agg_df['reward_percentage'].max()\n",
    "max_num_nominators = agg_df['num_nominators'].max()\n",
    "min_reward_percentage = max_reward_percentage / -100\n",
    "min_num_nominators = max_num_nominators / -100\n",
    "\n",
    "# Create a directory to store the images\n",
    "if not os.path.exists('images'):\n",
    "    os.makedirs('images')\n",
    "\n",
    "# Loop over each era to create the plots\n",
    "for era in agg_df['era_id'].unique():\n",
    "    era_df = agg_df[agg_df['era_id'] == era]\n",
    "\n",
    "    # Create a scatter plot with different colors for new/returning nominators\n",
    "    plt.figure(figsize=(10, 6))\n",
    "    plot = sns.scatterplot(data=era_df, x='reward_percentage', y='num_nominators',\n",
    "                           size='new_nominators', hue='new_nominators',\n",
    "                           palette='viridis')\n",
    "\n",
    "    plt.xlabel('Reward')\n",
    "    plt.ylabel('Number of Nominators')\n",
    "    plt.title(f'Effect of Reward on Validator Choice in Era {era}')\n",
    "    plt.xlim(min_reward_percentage, max_reward_percentage)\n",
    "    plt.ylim(min_num_nominators, max_num_nominators)\n",
    "\n",
    "    # Fix the legend to start from 1\n",
    "    handles, labels = plot.get_legend_handles_labels()\n",
    "    labels[1] = '1'  # Change the label '0' to '1'\n",
    "    plot.legend(handles=handles[1:], labels=labels[1:], title='New Nominators')\n",
    "\n",
    "    plt.savefig(f'images/era_{era}.png')\n",
    "    plt.close()\n",
    "\n",
    "\n",
    "\n",
    "# Create the GIF as before\n",
    "images = [imageio.imread(f'images/era_{era}.png') for era in agg_df['era_id'].unique()]\n",
    "imageio.mimsave('reward_vs_nominators.gif', images, duration=50)\n"
   ],
   "metadata": {
    "collapsed": false
   }
  },
  {
   "cell_type": "code",
   "execution_count": null,
   "outputs": [],
   "source": [
    "images = [imageio.imread(f'images/era_{era}.png') for era in agg_df['era_id'].unique()]\n",
    "imageio.mimsave('reward_vs_nominators.gif', images, duration=20)"
   ],
   "metadata": {
    "collapsed": false
   }
  },
  {
   "cell_type": "code",
   "execution_count": null,
   "outputs": [],
   "source": [
    "from matplotlib.animation import FuncAnimation\n",
    "from PIL import Image\n",
    "\n",
    "fig, ax = plt.subplots(figsize=(10, 6))\n",
    "\n",
    "def update(era):\n",
    "    ax.clear()\n",
    "    era_df = agg_df[agg_df['era_id'] == era]\n",
    "    plot = sns.scatterplot(data=era_df, x='reward_percentage', y='num_nominators',\n",
    "                           size='new_nominators', hue='new_nominators',\n",
    "                           palette='viridis', ax=ax)\n",
    "    ax.set_xlabel('Reward')\n",
    "    ax.set_ylabel('Number of Nominators')\n",
    "    ax.set_title(f'Effect of Reward on Validator Choice in Era {era}')\n",
    "    ax.set_xlim(min_reward_percentage, max_reward_percentage)\n",
    "    ax.set_ylim(min_num_nominators, max_num_nominators)\n",
    "    # Fix the legend to start from 1\n",
    "    handles, labels = ax.get_legend_handles_labels()\n",
    "    labels[1] = '1'  # Change the label '0' to '1'\n",
    "    ax.legend(handles=handles[1:], labels=labels[1:], title='New Nominators')\n",
    "\n",
    "ani = FuncAnimation(fig, update, frames=agg_df['era_id'].unique())\n",
    "\n",
    "ani.save('reward_vs_nominators.mp4', writer='ffmpeg', fps=5)\n",
    "plt.close(fig)\n"
   ],
   "metadata": {
    "collapsed": false
   }
  },
  {
   "cell_type": "code",
   "execution_count": null,
   "outputs": [],
   "source": [
    "import os\n",
    "import seaborn as sns\n",
    "import imageio\n",
    "import matplotlib.pyplot as plt\n",
    "import numpy as np\n",
    "import io\n",
    "\n",
    "# Create a copy of the DataFrame and sort it\n",
    "sorted_df = df.sort_values(['nominator_id', 'validator_id', 'era_id'])\n",
    "\n",
    "# Create a new column 'previous_era' with the era of the previous nomination for each nominator and validator\n",
    "sorted_df['previous_era'] = sorted_df.groupby(['nominator_id', 'validator_id'])['era_id'].shift()\n",
    "\n",
    "# Create a column to identify new nominators or those returning after an absence of 10 eras\n",
    "sorted_df['new_nominator'] = ((sorted_df['era_id'] - sorted_df['previous_era']) >= 10) | sorted_df['nominator_id'].ne(sorted_df['nominator_id'].shift())\n",
    "\n",
    "# Create an aggregated dataframe to get the total number of new nominators for each validator in each era\n",
    "agg_df = sorted_df.groupby(['era_id', 'validator_id', 'reward_percentage']).agg(\n",
    "    num_nominators=('nominator_id', 'count'),\n",
    "    new_nominators=('new_nominator', 'sum')\n",
    ").reset_index()\n",
    "\n",
    "# Exclude groups where we do not have any nominators\n",
    "agg_df = agg_df[agg_df['num_nominators'] > 0]\n",
    "\n",
    "# Calculate max and min values for axes\n",
    "max_reward_percentage = agg_df['reward_percentage'].max()\n",
    "max_num_nominators = agg_df['num_nominators'].max()\n",
    "min_reward_percentage = max_reward_percentage / -100\n",
    "min_num_nominators = max_num_nominators / -100\n",
    "\n",
    "# Create a directory to store the images\n",
    "if not os.path.exists('images'):\n",
    "    os.makedirs('images')\n",
    "\n",
    "# Create a list to store image arrays\n",
    "images = []\n",
    "\n",
    "# Loop over each era to create the plots\n",
    "for era in agg_df['era_id'].unique():\n",
    "    era_df = agg_df[agg_df['era_id'] == era]\n",
    "\n",
    "    # Create a scatter plot with different colors for new/returning nominators\n",
    "    plt.figure(figsize=(10, 6))\n",
    "    plot = sns.scatterplot(data=era_df, x='reward_percentage', y='num_nominators', size='new_nominators', hue='new_nominators', palette='viridis')\n",
    "    plt.xlabel('Reward Percentage')\n",
    "    plt.ylabel('Number of Nominators')\n",
    "    plt.title(f'Effect of Reward Percentage on Validator Choice in Era {era}')\n",
    "    plt.xlim(min_reward_percentage, max_reward_percentage)\n",
    "    plt.ylim(min_num_nominators, max_num_nominators)\n",
    "\n",
    "    # Fix the legend to start from 1\n",
    "    handles, labels = plot.get_legend_handles_labels()\n",
    "    plot.legend(handles=handles[1:], labels=np.arange(1, len(handles)), title='New Nominators')\n",
    "\n",
    "    # Save the figure to a file-like object\n",
    "    buf = io.BytesIO()\n",
    "    plt.savefig(buf, format='png')\n",
    "    buf.seek(0)\n",
    "    image = imageio.imread(buf)\n",
    "    images.append(image)\n",
    "    plt.close()\n",
    "\n",
    "# Save images as MP4\n",
    "imageio.mimwrite('reward_vs_nominators.mp4', images, dutation=40)\n"
   ],
   "metadata": {
    "collapsed": false
   }
  },
  {
   "cell_type": "code",
   "execution_count": null,
   "outputs": [],
   "source": [],
   "metadata": {
    "collapsed": false
   }
  }
 ],
 "metadata": {
  "kernelspec": {
   "display_name": "Python 3 (ipykernel)",
   "language": "python",
   "name": "python3"
  },
  "language_info": {
   "codemirror_mode": {
    "name": "ipython",
    "version": 3
   },
   "file_extension": ".py",
   "mimetype": "text/x-python",
   "name": "python",
   "nbconvert_exporter": "python",
   "pygments_lexer": "ipython3",
   "version": "3.10.12"
  }
 },
 "nbformat": 4,
 "nbformat_minor": 1
}
